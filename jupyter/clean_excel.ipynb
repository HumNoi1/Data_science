{
 "cells": [
  {
   "cell_type": "code",
   "execution_count": 1,
   "metadata": {},
   "outputs": [
    {
     "ename": "FileNotFoundError",
     "evalue": "[WinError 3] The system cannot find the path specified: 'clean_data'",
     "output_type": "error",
     "traceback": [
      "\u001b[1;31m---------------------------------------------------------------------------\u001b[0m",
      "\u001b[1;31mFileNotFoundError\u001b[0m                         Traceback (most recent call last)",
      "Cell \u001b[1;32mIn[1], line 12\u001b[0m\n\u001b[0;32m      9\u001b[0m combined_data \u001b[38;5;241m=\u001b[39m pd\u001b[38;5;241m.\u001b[39mDataFrame()\n\u001b[0;32m     11\u001b[0m \u001b[38;5;66;03m# วนลูปผ่านไฟล์ในโฟลเดอร์\u001b[39;00m\n\u001b[1;32m---> 12\u001b[0m \u001b[38;5;28;01mfor\u001b[39;00m file_name \u001b[38;5;129;01min\u001b[39;00m \u001b[43mos\u001b[49m\u001b[38;5;241;43m.\u001b[39;49m\u001b[43mlistdir\u001b[49m\u001b[43m(\u001b[49m\u001b[43mfolder_path\u001b[49m\u001b[43m)\u001b[49m:\n\u001b[0;32m     13\u001b[0m     \u001b[38;5;28;01mif\u001b[39;00m file_name\u001b[38;5;241m.\u001b[39mendswith(\u001b[38;5;124m\"\u001b[39m\u001b[38;5;124m.xlsx\u001b[39m\u001b[38;5;124m\"\u001b[39m):  \u001b[38;5;66;03m# ตรวจสอบว่าเป็นไฟล์ Excel\u001b[39;00m\n\u001b[0;32m     14\u001b[0m         file_path \u001b[38;5;241m=\u001b[39m os\u001b[38;5;241m.\u001b[39mpath\u001b[38;5;241m.\u001b[39mjoin(folder_path, file_name)\n",
      "\u001b[1;31mFileNotFoundError\u001b[0m: [WinError 3] The system cannot find the path specified: 'clean_data'"
     ]
    }
   ],
   "source": [
    "import pandas as pd\n",
    "import os\n",
    "\n",
    "# ตั้งค่าพาธโฟลเดอร์ที่เก็บไฟล์ Excel และชื่อไฟล์ผลลัพธ์\n",
    "folder_path = \"clean_data\"  # เปลี่ยนเป็นพาธโฟลเดอร์ของคุณ\n",
    "output_file = \"data1.xlsx\"\n",
    "\n",
    "# สร้าง DataFrame ว่างสำหรับเก็บข้อมูล\n",
    "combined_data = pd.DataFrame()\n",
    "\n",
    "# วนลูปผ่านไฟล์ในโฟลเดอร์\n",
    "for file_name in os.listdir(folder_path):\n",
    "    if file_name.endswith(\".xlsx\"):  # ตรวจสอบว่าเป็นไฟล์ Excel\n",
    "        file_path = os.path.join(folder_path, file_name)\n",
    "        print(f\"กำลังอ่านไฟล์: {file_name}\")\n",
    "        try:\n",
    "            # อ่านไฟล์ Excel และเลือกเฉพาะคอลัมน์ tweetText และ hashtags\n",
    "            data = pd.read_excel(file_path, usecols=[\"tweetText\", \"hashtags\"])\n",
    "            # รวมข้อมูลเข้ากับ DataFrame หลัก\n",
    "            combined_data = pd.concat([combined_data, data], ignore_index=True)\n",
    "        except Exception as e:\n",
    "            print(f\"เกิดข้อผิดพลาดในการอ่านไฟล์ {file_name}: {e}\")\n",
    "\n",
    "# บันทึกไฟล์ Excel ที่รวมแล้ว\n",
    "if not combined_data.empty:\n",
    "    combined_data.to_excel(output_file, index=False)\n",
    "    print(f\"รวมไฟล์สำเร็จ! ไฟล์รวมถูกบันทึกที่: {output_file}\")\n",
    "else:\n",
    "    print(\"ไม่มีข้อมูลให้รวม หรือไฟล์อาจไม่มีคอลัมน์ที่กำหนด\")"
   ]
  }
 ],
 "metadata": {
  "kernelspec": {
   "display_name": ".venv",
   "language": "python",
   "name": "python3"
  },
  "language_info": {
   "codemirror_mode": {
    "name": "ipython",
    "version": 3
   },
   "file_extension": ".py",
   "mimetype": "text/x-python",
   "name": "python",
   "nbconvert_exporter": "python",
   "pygments_lexer": "ipython3",
   "version": "3.11.9"
  }
 },
 "nbformat": 4,
 "nbformat_minor": 2
}
